{
 "cells": [
  {
   "cell_type": "code",
   "execution_count": 18,
   "id": "57554501",
   "metadata": {},
   "outputs": [],
   "source": [
    "import numpy as np\n",
    "import pandas as pd\n",
    "import networkx as nx\n",
    "import matplotlib.cm as cmx\n",
    "import matplotlib.pyplot as plt\n",
    "import matplotlib.colors as colors\n",
    "import matplotlib.patches as mpatches"
   ]
  },
  {
   "cell_type": "code",
   "execution_count": 19,
   "id": "1b2520fb",
   "metadata": {},
   "outputs": [],
   "source": [
    "import warnings\n",
    "warnings.filterwarnings('ignore')\n",
    "pd.set_option('display.max_columns', None)\n",
    "pd.set_option('display.max_rows', None)"
   ]
  },
  {
   "cell_type": "markdown",
   "id": "772d4133",
   "metadata": {},
   "source": [
    "#### Importing Data"
   ]
  },
  {
   "cell_type": "code",
   "execution_count": 20,
   "id": "19d13e6f",
   "metadata": {},
   "outputs": [],
   "source": [
    "PATH = \"data/IRA Data/IRADATA.xlsx\"\n",
    "xls = pd.ExcelFile(PATH)"
   ]
  },
  {
   "cell_type": "code",
   "execution_count": 21,
   "id": "78972049",
   "metadata": {},
   "outputs": [
    {
     "data": {
      "text/html": [
       "<div>\n",
       "<style scoped>\n",
       "    .dataframe tbody tr th:only-of-type {\n",
       "        vertical-align: middle;\n",
       "    }\n",
       "\n",
       "    .dataframe tbody tr th {\n",
       "        vertical-align: top;\n",
       "    }\n",
       "\n",
       "    .dataframe thead th {\n",
       "        text-align: right;\n",
       "    }\n",
       "</style>\n",
       "<table border=\"1\" class=\"dataframe\">\n",
       "  <thead>\n",
       "    <tr style=\"text-align: right;\">\n",
       "      <th></th>\n",
       "      <th>Node Label</th>\n",
       "      <th>Antrim Brigade</th>\n",
       "      <th>Armagh Brigade</th>\n",
       "      <th>Down Brigade</th>\n",
       "      <th>Derry Brigade</th>\n",
       "      <th>Tyrone Brigade</th>\n",
       "      <th>Fermanagh Brigade</th>\n",
       "    </tr>\n",
       "  </thead>\n",
       "  <tbody>\n",
       "    <tr>\n",
       "      <th>0</th>\n",
       "      <td>ZF1001</td>\n",
       "      <td>0</td>\n",
       "      <td>0</td>\n",
       "      <td>0</td>\n",
       "      <td>1</td>\n",
       "      <td>0</td>\n",
       "      <td>0</td>\n",
       "    </tr>\n",
       "    <tr>\n",
       "      <th>1</th>\n",
       "      <td>ZF1007</td>\n",
       "      <td>0</td>\n",
       "      <td>0</td>\n",
       "      <td>0</td>\n",
       "      <td>1</td>\n",
       "      <td>0</td>\n",
       "      <td>0</td>\n",
       "    </tr>\n",
       "    <tr>\n",
       "      <th>2</th>\n",
       "      <td>ZF1025</td>\n",
       "      <td>0</td>\n",
       "      <td>0</td>\n",
       "      <td>0</td>\n",
       "      <td>1</td>\n",
       "      <td>0</td>\n",
       "      <td>0</td>\n",
       "    </tr>\n",
       "  </tbody>\n",
       "</table>\n",
       "</div>"
      ],
      "text/plain": [
       "  Node Label  Antrim Brigade  Armagh Brigade  Down Brigade  Derry Brigade  \\\n",
       "0     ZF1001               0               0             0              1   \n",
       "1     ZF1007               0               0             0              1   \n",
       "2     ZF1025               0               0             0              1   \n",
       "\n",
       "   Tyrone Brigade  Fermanagh Brigade  \n",
       "0               0                  0  \n",
       "1               0                  0  \n",
       "2               0                  0  "
      ]
     },
     "execution_count": 21,
     "metadata": {},
     "output_type": "execute_result"
    }
   ],
   "source": [
    "codebook = pd.read_excel(xls, 'Codebook')\n",
    "p2_attr = pd.read_excel(xls, 'Period2_Attribute')\n",
    "p2_netw = pd.read_excel(xls, 'Period2_Network')\n",
    "\n",
    "# Removing missing values\n",
    "p2_data = p2_attr[['ID', 'Antrim Brigade', 'Armagh Brigade', 'Down Brigade', \n",
    "                   'Derry Brigade', 'Tyrone Brigade', 'Fermanagh Brigade']]\n",
    "p2_data = p2_data[~p2_data.isin([99999]).any(axis=1)].reset_index(drop=True)\n",
    "\n",
    "# Changing Dataframe to make graph construction easier\n",
    "p2_data.rename(columns={\"ID\" : \"Node Label\"}, inplace=True)\n",
    "p2_data.head(3)"
   ]
  },
  {
   "cell_type": "markdown",
   "id": "9b844518",
   "metadata": {},
   "source": [
    "#### Constructing / Visualizing a Network based on Brigade Membership"
   ]
  },
  {
   "cell_type": "code",
   "execution_count": 22,
   "id": "b661736c",
   "metadata": {},
   "outputs": [],
   "source": [
    "def is_duplicate(new_edge, edges_list):\n",
    "    reversed_edge = tuple(reversed(new_edge))\n",
    "    if new_edge in edges_list or reversed_edge in edges_list:\n",
    "        return True\n",
    "    return False"
   ]
  },
  {
   "cell_type": "code",
   "execution_count": 23,
   "id": "69183cf7",
   "metadata": {},
   "outputs": [],
   "source": [
    "def get_brigade_membership(node_id:int, df:pd.DataFrame=None):\n",
    "    if not df:\n",
    "            df = p2_data\n",
    "    node_row = df.iloc[[node_id], :]\n",
    "\n",
    "    for col in df.columns:\n",
    "        cur_value = list(node_row[col])[0]\n",
    "        if cur_value == 1:\n",
    "            return col\n",
    "    return False"
   ]
  },
  {
   "cell_type": "code",
   "execution_count": 24,
   "id": "04d408ab",
   "metadata": {},
   "outputs": [],
   "source": [
    "def get_node_connections(node_id, df, larger_edges_lst, delete_duplicates = False):\n",
    "    edges = []\n",
    "    src_node_membership = get_brigade_membership(node_id, df=df)\n",
    "    \n",
    "    for n in range(0, df.shape[0]):\n",
    "        if n == node_id:\n",
    "            continue\n",
    "        node_n_membership = get_brigade_membership(n, df=df)\n",
    "        if node_n_membership == src_node_membership:\n",
    "            new_edge = (node_id, n)\n",
    "            \n",
    "            if delete_duplicates: \n",
    "                if not is_duplicate(new_edge, larger_edges_lst):\n",
    "                    edges.append(new_edge)\n",
    "            else:\n",
    "                edges.append(new_edge)\n",
    "    return edges"
   ]
  },
  {
   "cell_type": "markdown",
   "id": "a749dac6",
   "metadata": {},
   "source": [
    "#### Constructing graph with the given network data + coloring based on brigade membership"
   ]
  },
  {
   "cell_type": "code",
   "execution_count": 25,
   "id": "6a9f3c1c",
   "metadata": {},
   "outputs": [],
   "source": [
    "p2_adj = p2_netw.set_index('Unnamed: 0')\n",
    "G_from_netw = nx.from_pandas_adjacency(p2_adj)"
   ]
  },
  {
   "cell_type": "code",
   "execution_count": 47,
   "id": "ad6d8451",
   "metadata": {},
   "outputs": [],
   "source": [
    "# Remove nodes in adjacency matrix that aren't present in p2_data\n",
    "p2_data_nodes = list(p2_data['Node Label'])\n",
    "netw_nodes = p2_adj.index\n",
    "to_remove = []\n",
    "\n",
    "for node in netw_nodes:\n",
    "    if not node in p2_data_nodes:\n",
    "        to_remove.append(node)\n",
    "        \n",
    "p2_adj.drop(labels=to_remove, axis=0, inplace=True)\n",
    "p2_adj.drop(labels=to_remove, axis=1, inplace=True)"
   ]
  },
  {
   "cell_type": "code",
   "execution_count": 27,
   "id": "309e92fb",
   "metadata": {},
   "outputs": [],
   "source": [
    "cat_df = pd.DataFrame({\"Node ID\" : p2_data.index})\n",
    "cat_df['Brigade'] = cat_df['Node ID'].apply(get_brigade_membership)\n",
    "cat_df = cat_df.replace({False : \"None\"})\n",
    "cat_df['Node ID'] = p2_data['Node Label']"
   ]
  },
  {
   "cell_type": "code",
   "execution_count": 28,
   "id": "045fb2e8",
   "metadata": {},
   "outputs": [],
   "source": [
    "# Make types into categories\n",
    "cat_df = cat_df.set_index('Node ID')\n",
    "cat_df = cat_df.reindex(G_from_netw.nodes())\n",
    "cat_df['Brigade'] = pd.Categorical(cat_df['Brigade'])\n",
    "\n",
    "nodes_to_brigades = cat_df.copy()\n",
    "nodes_to_brigades['Node ID'] = nodes_to_brigades.index\n",
    "nodes_to_brigades.reset_index(drop=True, inplace=True)\n",
    "cat_brigades = cat_df.copy()"
   ]
  },
  {
   "cell_type": "code",
   "execution_count": 29,
   "id": "20b5aac1",
   "metadata": {},
   "outputs": [],
   "source": [
    "# nx.draw(G_from_netw, node_size=25, font_size=3, node_color=cat_df['Brigade'].cat.codes)"
   ]
  },
  {
   "cell_type": "markdown",
   "id": "5e792fdd",
   "metadata": {},
   "source": [
    "#### Coloring based on age at recruitment"
   ]
  },
  {
   "cell_type": "code",
   "execution_count": 30,
   "id": "d1f17c43",
   "metadata": {},
   "outputs": [],
   "source": [
    "p2_age_data = p2_attr[['ID', 'Age at Recruitment']]\n",
    "p2_age_data = p2_age_data[~p2_age_data.isin([99999]).any(axis=1)].reset_index(drop=True)"
   ]
  },
  {
   "cell_type": "code",
   "execution_count": 31,
   "id": "658f02bf",
   "metadata": {},
   "outputs": [],
   "source": [
    "p2_age_data['Age at Recruitment'].value_counts()\n",
    "def get_age_band(age):\n",
    "    if 17 <= age <= 20:\n",
    "        return \"Between 17 and 20\"\n",
    "    if 20 < age <= 25:\n",
    "        return \"Between 20 and 25\"\n",
    "    if 25 < age <= 35:\n",
    "        return \"Between 25 and 35\"\n",
    "    if 35 < age <= 50:\n",
    "        return \"Between 35 and 50\"\n",
    "    else:\n",
    "        return \"Over 50\""
   ]
  },
  {
   "cell_type": "code",
   "execution_count": 32,
   "id": "908b2ab6",
   "metadata": {},
   "outputs": [],
   "source": [
    "# Remove nodes in adjacency matrix that aren't present in p2_data\n",
    "p2_adj = pd.read_excel(xls, 'Period2_Network').set_index('Unnamed: 0')\n",
    "p2_age_data_nodes = list(p2_age_data['ID'])\n",
    "netw_nodes = p2_adj.index\n",
    "to_remove = []\n",
    "\n",
    "for node in netw_nodes:\n",
    "    if not node in p2_age_data_nodes:\n",
    "        to_remove.append(node)\n",
    "\n",
    "p2_adj.drop(labels=to_remove, axis=0, inplace=True)\n",
    "p2_adj.drop(labels=to_remove, axis=1, inplace=True)"
   ]
  },
  {
   "cell_type": "code",
   "execution_count": 33,
   "id": "8da6423e",
   "metadata": {},
   "outputs": [
    {
     "data": {
      "text/html": [
       "<div>\n",
       "<style scoped>\n",
       "    .dataframe tbody tr th:only-of-type {\n",
       "        vertical-align: middle;\n",
       "    }\n",
       "\n",
       "    .dataframe tbody tr th {\n",
       "        vertical-align: top;\n",
       "    }\n",
       "\n",
       "    .dataframe thead th {\n",
       "        text-align: right;\n",
       "    }\n",
       "</style>\n",
       "<table border=\"1\" class=\"dataframe\">\n",
       "  <thead>\n",
       "    <tr style=\"text-align: right;\">\n",
       "      <th></th>\n",
       "      <th>ID</th>\n",
       "      <th>Age Band</th>\n",
       "    </tr>\n",
       "  </thead>\n",
       "  <tbody>\n",
       "    <tr>\n",
       "      <th>0</th>\n",
       "      <td>ZF1001</td>\n",
       "      <td>Between 35 and 50</td>\n",
       "    </tr>\n",
       "    <tr>\n",
       "      <th>1</th>\n",
       "      <td>ZF1007</td>\n",
       "      <td>Between 20 and 25</td>\n",
       "    </tr>\n",
       "  </tbody>\n",
       "</table>\n",
       "</div>"
      ],
      "text/plain": [
       "       ID           Age Band\n",
       "0  ZF1001  Between 35 and 50\n",
       "1  ZF1007  Between 20 and 25"
      ]
     },
     "execution_count": 33,
     "metadata": {},
     "output_type": "execute_result"
    }
   ],
   "source": [
    "cat_df = pd.DataFrame({\"ID\" : p2_age_data.index, \"Age at Recruitment\" : p2_age_data['Age at Recruitment']})\n",
    "cat_df['Age Band'] = cat_df['Age at Recruitment'].apply(get_age_band)\n",
    "cat_df['ID'] = p2_age_data['ID']\n",
    "cat_df = cat_df[['ID', 'Age Band']]\n",
    "cat_ages = cat_df.copy()\n",
    "cat_df.head(2)"
   ]
  },
  {
   "cell_type": "code",
   "execution_count": 34,
   "id": "5d1b4e30",
   "metadata": {},
   "outputs": [],
   "source": [
    "# Make types into categories\n",
    "cat_df = cat_df.set_index('ID')\n",
    "cat_df = cat_df.reindex(G_from_netw.nodes())\n",
    "cat_df['Age Band'] = pd.Categorical(cat_df['Age Band'])\n",
    "# nx.draw(G_from_netw, node_size=25, font_size=3, with_labels=True, node_color=cat_df['Age Band'].cat.codes)"
   ]
  }
 ],
 "metadata": {
  "kernelspec": {
   "display_name": "Python 3 (ipykernel)",
   "language": "python",
   "name": "python3"
  },
  "language_info": {
   "codemirror_mode": {
    "name": "ipython",
    "version": 3
   },
   "file_extension": ".py",
   "mimetype": "text/x-python",
   "name": "python",
   "nbconvert_exporter": "python",
   "pygments_lexer": "ipython3",
   "version": "3.11.2"
  }
 },
 "nbformat": 4,
 "nbformat_minor": 5
}
