{
 "cells": [
  {
   "cell_type": "code",
   "execution_count": 36,
   "id": "091a7dd1",
   "metadata": {},
   "outputs": [],
   "source": [
    "import warnings\n",
    "warnings.simplefilter(action='ignore', category=FutureWarning)\n",
    "\n",
    "import os\n",
    "import types\n",
    "import pickle\n",
    "import random\n",
    "import numpy as np\n",
    "import pandas as pd\n",
    "import networkx as nx\n",
    "\n",
    "import matplotlib.cm as cmx\n",
    "import matplotlib.pyplot as plt\n",
    "import matplotlib.colors as colors\n",
    "import matplotlib.patches as mpatches\n",
    "\n",
    "pd.options.mode.chained_assignment = None"
   ]
  },
  {
   "cell_type": "markdown",
   "id": "b27353eb",
   "metadata": {},
   "source": [
    "# Importing & Preparing Data"
   ]
  },
  {
   "cell_type": "code",
   "execution_count": 15,
   "id": "abcb1121",
   "metadata": {},
   "outputs": [],
   "source": [
    "PATH = 'data/co-authorship-network/'"
   ]
  },
  {
   "cell_type": "code",
   "execution_count": 16,
   "id": "44621094",
   "metadata": {},
   "outputs": [],
   "source": [
    "edges = pd.read_table(PATH + '/edges.txt', sep=',', header=None)\n",
    "edges.columns = [\"source\", \"target\"]\n",
    "edges_original = edges.copy()"
   ]
  },
  {
   "cell_type": "code",
   "execution_count": 17,
   "id": "fd1dfda7",
   "metadata": {},
   "outputs": [],
   "source": [
    "# Construct graph from edgelist & truncate the graph and cat_df\n",
    "cat_df = pd.read_csv(\"Categorical_DF_majority_discipline.csv\").set_index('Node ID')\n",
    "G = nx.from_pandas_edgelist(edges)\n",
    "G = G.subgraph(cat_df.index)"
   ]
  },
  {
   "cell_type": "code",
   "execution_count": 18,
   "id": "96011ae8",
   "metadata": {},
   "outputs": [],
   "source": [
    "for node_id, discipline in cat_df['Discipline'].iteritems():\n",
    "    G.nodes[node_id]['Discipline'] = discipline"
   ]
  },
  {
   "cell_type": "markdown",
   "id": "4172d10d",
   "metadata": {},
   "source": [
    "# Finding Largest Connected Component"
   ]
  },
  {
   "cell_type": "code",
   "execution_count": 42,
   "id": "0ef4cf68",
   "metadata": {},
   "outputs": [],
   "source": [
    "# Define a BFS function that returns the connected component and stops when the size limit is reached\n",
    "def bfs_connected_component(graph, start_node, size_limit):\n",
    "    visited = set()\n",
    "    queue = [start_node]\n",
    "\n",
    "    while queue:\n",
    "        node = queue.pop(0)\n",
    "        if node not in visited:\n",
    "            visited.add(node)\n",
    "            if len(visited) >= size_limit:\n",
    "                break\n",
    "            neighbors = list(graph.neighbors(node))\n",
    "            queue.extend(neighbors)\n",
    "\n",
    "    return visited\n",
    "\n",
    "def get_random_cc_with_categories(size_limit, G=G, min_percentage=0.3):\n",
    "    connected_component = set()\n",
    "    while True:\n",
    "        # Pick a random node and perform BFS until you find a connected component w/size limit\n",
    "        random_node = random.choice(list(G.nodes()))\n",
    "        connected_component = bfs_connected_component(G, random_node, size_limit)\n",
    "\n",
    "        # Create a subgraph of the connected component\n",
    "        G_cc = G.subgraph(connected_component)\n",
    "\n",
    "        # Count the number of nodes for each category in the connected component\n",
    "        cat_counts = cat_df[cat_df.index.isin(G_cc.nodes())]['Discipline'].value_counts()\n",
    "        cat_percentages = cat_counts / len(connected_component)\n",
    "\n",
    "        # Check if at least two categories have more than min_percentage nodes\n",
    "        if (cat_percentages >= min_percentage).sum() >= 2:\n",
    "            # print(str(cat_percentages) + \"\\n---------------------\")\n",
    "            return connected_component               "
   ]
  },
  {
   "cell_type": "code",
   "execution_count": 43,
   "id": "50756c52",
   "metadata": {},
   "outputs": [],
   "source": [
    "def draw_graph(G, cat_df=cat_df):\n",
    "    # Get the values of the category\n",
    "    cat_values = cat_df[cat_df.index.isin(G.nodes)]['Discipline'].unique()\n",
    "    colors = [plt.cm.Set2(i/float(len(cat_values)-1)) for i in range(len(cat_values))]\n",
    "\n",
    "    # Create a dictionary mapping category values to colors & map nodes to colors\n",
    "    value_to_color = dict(zip(cat_values, colors))\n",
    "    node_colors = [value_to_color[cat_df.loc[n]['Discipline']] for n in G.nodes()]\n",
    "\n",
    "    # Draw the graph\n",
    "    plt.figure(figsize=(5, 5))\n",
    "    nx.draw(G, node_size=25, node_color=node_colors)\n",
    "\n",
    "    # Create a patch for each category value\n",
    "    patches = [plt.plot([],[], marker=\"o\", color=colors[i], \n",
    "               label=\"{}\".format(cat_values[i]))[0] for i in range(len(cat_values))]\n",
    "\n",
    "    # Add legend\n",
    "    plt.legend(handles=patches);\n",
    "    \n",
    "def draw_cat_distribution(G, cat_df=cat_df):\n",
    "    cat_df_subset = cat_df[cat_df.index.isin(G.nodes)]\n",
    "    cat_df_subset.Discipline = cat_df_subset.Discipline.cat.remove_unused_categories()\n",
    "    cat_df_subset['Discipline'].value_counts().plot(kind='bar');"
   ]
  },
  {
   "cell_type": "code",
   "execution_count": 54,
   "id": "d9146d29",
   "metadata": {},
   "outputs": [],
   "source": [
    "# random_cc = get_random_cc_with_categories(500)\n",
    "# G_cc = G.subgraph(random_cc)\n",
    "# draw_graph(G_cc)"
   ]
  },
  {
   "cell_type": "markdown",
   "id": "aea04333",
   "metadata": {},
   "source": [
    "# Finding Subgraphs with Community Structure"
   ]
  },
  {
   "cell_type": "code",
   "execution_count": 44,
   "id": "9231d684",
   "metadata": {},
   "outputs": [],
   "source": [
    "def save_obj(obj, filename):\n",
    "    with open(filename, 'wb') as f:\n",
    "        pickle.dump(obj, f)\n",
    "\n",
    "def load_obj(filename):\n",
    "    with open(filename, 'rb') as f:\n",
    "        return pickle.load(f)\n",
    "    \n",
    "def save_graph_image(G, clusters, cat_df, filename):\n",
    "    fig, ax = plt.subplots(figsize=(20, 20))\n",
    "    draw_graph(G)\n",
    "    plt.savefig(filename, dpi=300)\n",
    "    plt.close(fig)"
   ]
  },
  {
   "cell_type": "markdown",
   "id": "3d342b6d",
   "metadata": {},
   "source": [
    "Louvain will exclude cross-community edges; \n",
    "alternate - pick a random node; do a BFS 'till certain thresholds (e.g. x nodes from category 1, y nodes from cat. 2). "
   ]
  },
  {
   "cell_type": "markdown",
   "id": "04de367c",
   "metadata": {},
   "source": [
    "# Plotting in-group degree vs. out-group degrees"
   ]
  },
  {
   "cell_type": "code",
   "execution_count": 49,
   "id": "0025d45b",
   "metadata": {},
   "outputs": [],
   "source": [
    "def plot_group_degrees(G_cc):\n",
    "    # Get the category DataFrame for the connected component\n",
    "    cat_df_cc = cat_df[cat_df.index.isin(G_cc.nodes())]\n",
    "\n",
    "    # Get the unique category values\n",
    "    cat_values = cat_df_cc['Discipline'].unique()\n",
    "\n",
    "    # Separate nodes in the connected component into groups based on their Discipline value\n",
    "    nodes_groups = {value: [n for n in G_cc.nodes() if cat_df_cc.loc[n]['Discipline'] == value] for value in cat_values}\n",
    "\n",
    "    # Filter nodes_groups to exclude categories with no nodes\n",
    "    nodes_groups_filtered = {value: nodes for value, nodes in nodes_groups.items() if len(nodes) > 0}\n",
    "    filtered_cat_values = list(nodes_groups_filtered.keys())\n",
    "\n",
    "    # Calculate in-group and out-group degrees for each group with nodes\n",
    "    group_degrees = {}\n",
    "    for value, nodes in nodes_groups_filtered.items():\n",
    "        in_group_degrees, out_group_degrees = [], []\n",
    "        for node in nodes:\n",
    "            other_groups = [nodes_groups_filtered[other_value] for other_value in filtered_cat_values if other_value != value]\n",
    "            other_nodes = [item for sublist in other_groups for item in sublist]\n",
    "            connections_in_group, connections_out_group = get_node_degrees(node, G_cc, nodes, other_nodes)\n",
    "            in_group_degrees.append(connections_in_group)\n",
    "            out_group_degrees.append(connections_out_group)\n",
    "        group_degrees[value] = (in_group_degrees, out_group_degrees)\n",
    "\n",
    "    # Plot histograms of in-group and out-group degrees for groups with nodes\n",
    "    fig, axs = plt.subplots(len(filtered_cat_values), 2, figsize=(10, 5 * len(filtered_cat_values)))\n",
    "    max_bin_width = 1\n",
    "\n",
    "    for i, value in enumerate(filtered_cat_values):\n",
    "        # Calculate the range of in-group and out-group degrees\n",
    "        in_group_range = np.ptp(group_degrees[value][0])\n",
    "        out_group_range = np.ptp(group_degrees[value][1])\n",
    "\n",
    "        # Calculate the number of bins, making sure the bin width doesn't go below max_bin_width\n",
    "        in_group_bins = max(int(in_group_range / max_bin_width), 1)\n",
    "        out_group_bins = max(int(out_group_range / max_bin_width), 1)\n",
    "\n",
    "        # In-group degree histogram for the current group\n",
    "        axs[i, 0].hist(group_degrees[value][0], bins=in_group_bins, density=True)\n",
    "        axs[i, 0].set_xlabel('In-group degree')\n",
    "        axs[i, 0].set_ylabel('Proportion of nodes')\n",
    "        axs[i, 0].set_title(f'In-group Degree Histogram for {value}')\n",
    "    \n",
    "        # Out-group degree histogram for the current group\n",
    "        axs[i, 1].hist(group_degrees[value][1], bins=out_group_bins, density=True)\n",
    "        axs[i, 1].set_xlabel('Out-group degree')\n",
    "        axs[i, 1].set_ylabel('Proportion of nodes')\n",
    "        axs[i, 1].set_title(f'Out-group Degree Histogram for {value}')\n",
    "\n",
    "    plt.subplots_adjust(top=0.9, hspace=0.4)"
   ]
  },
  {
   "cell_type": "code",
   "execution_count": 55,
   "id": "5fc882ae",
   "metadata": {},
   "outputs": [],
   "source": [
    "# plot_group_degrees(G_cc)"
   ]
  }
 ],
 "metadata": {
  "kernelspec": {
   "display_name": "Python 3 (ipykernel)",
   "language": "python",
   "name": "python3"
  },
  "language_info": {
   "codemirror_mode": {
    "name": "ipython",
    "version": 3
   },
   "file_extension": ".py",
   "mimetype": "text/x-python",
   "name": "python",
   "nbconvert_exporter": "python",
   "pygments_lexer": "ipython3",
   "version": "3.11.2"
  }
 },
 "nbformat": 4,
 "nbformat_minor": 5
}
