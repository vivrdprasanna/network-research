{
 "cells": [
  {
   "cell_type": "code",
   "execution_count": 1,
   "id": "8afe432c",
   "metadata": {},
   "outputs": [],
   "source": [
    "import praw\n",
    "import networkx as nx\n",
    "from collections import defaultdict, deque"
   ]
  },
  {
   "cell_type": "markdown",
   "id": "748e35ef",
   "metadata": {},
   "source": [
    "### Collecting Data\n",
    "TBD"
   ]
  },
  {
   "cell_type": "code",
   "execution_count": 2,
   "id": "b2fbf309",
   "metadata": {},
   "outputs": [],
   "source": [
    "# Initialize the Reddit connection with API credentials\n",
    "def initialize_reddit():\n",
    "    client_id = '9zk3ptJvrNihAEGiiyTYPg'\n",
    "    client_secret = 'dpYAGYqjV3jfcdg7bNjXJ9gX99cOuQ'\n",
    "    user_agent = 'network analysis'\n",
    "    username = \"stuffingmybrain\"\n",
    "    return praw.Reddit(client_id=client_id,\n",
    "                       client_secret=client_secret,\n",
    "                       user_agent=user_agent,\n",
    "                       username=username)"
   ]
  },
  {
   "cell_type": "code",
   "execution_count": null,
   "id": "b0a24723",
   "metadata": {},
   "outputs": [],
   "source": []
  }
 ],
 "metadata": {
  "kernelspec": {
   "display_name": "Python 3 (ipykernel)",
   "language": "python",
   "name": "python3"
  },
  "language_info": {
   "codemirror_mode": {
    "name": "ipython",
    "version": 3
   },
   "file_extension": ".py",
   "mimetype": "text/x-python",
   "name": "python",
   "nbconvert_exporter": "python",
   "pygments_lexer": "ipython3",
   "version": "3.9.16"
  }
 },
 "nbformat": 4,
 "nbformat_minor": 5
}
