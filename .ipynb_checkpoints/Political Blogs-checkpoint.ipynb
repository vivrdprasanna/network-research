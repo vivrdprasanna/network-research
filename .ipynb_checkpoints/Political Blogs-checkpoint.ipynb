{
 "cells": [
  {
   "cell_type": "code",
   "execution_count": 1,
   "id": "7214e80d",
   "metadata": {},
   "outputs": [],
   "source": [
    "import networkx as nx\n",
    "import matplotlib.pyplot as plt"
   ]
  },
  {
   "cell_type": "code",
   "execution_count": 9,
   "id": "de750e8b",
   "metadata": {},
   "outputs": [],
   "source": [
    "gml_path = 'data/polblogs.gml'  # Replace with the path to your GML file"
   ]
  },
  {
   "cell_type": "code",
   "execution_count": 11,
   "id": "3b5f78ce",
   "metadata": {
    "scrolled": true
   },
   "outputs": [],
   "source": [
    "G = nx.read_gml(gml_path)"
   ]
  },
  {
   "cell_type": "code",
   "execution_count": 15,
   "id": "b3a5ad8f",
   "metadata": {},
   "outputs": [],
   "source": [
    "zero, one = 0, 0\n",
    "\n",
    "for node in G.nodes:\n",
    "    if G.nodes[node]['value'] == 0:\n",
    "        zero += 1\n",
    "    elif G.nodes[node]['value'] == 1:\n",
    "        one += 1"
   ]
  },
  {
   "cell_type": "code",
   "execution_count": 16,
   "id": "a3db3b4c",
   "metadata": {},
   "outputs": [
    {
     "data": {
      "text/plain": [
       "(758, 732)"
      ]
     },
     "execution_count": 16,
     "metadata": {},
     "output_type": "execute_result"
    }
   ],
   "source": [
    "zero, one"
   ]
  },
  {
   "cell_type": "code",
   "execution_count": null,
   "id": "cb484773",
   "metadata": {},
   "outputs": [],
   "source": []
  }
 ],
 "metadata": {
  "kernelspec": {
   "display_name": "Python 3 (ipykernel)",
   "language": "python",
   "name": "python3"
  },
  "language_info": {
   "codemirror_mode": {
    "name": "ipython",
    "version": 3
   },
   "file_extension": ".py",
   "mimetype": "text/x-python",
   "name": "python",
   "nbconvert_exporter": "python",
   "pygments_lexer": "ipython3",
   "version": "3.9.16"
  }
 },
 "nbformat": 4,
 "nbformat_minor": 5
}
