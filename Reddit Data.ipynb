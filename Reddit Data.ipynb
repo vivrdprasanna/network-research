{
 "cells": [
  {
   "cell_type": "code",
   "execution_count": 1,
   "id": "8afe432c",
   "metadata": {},
   "outputs": [],
   "source": [
    "import praw\n",
    "import random"
   ]
  },
  {
   "cell_type": "markdown",
   "id": "748e35ef",
   "metadata": {},
   "source": [
    "### Collecting Data"
   ]
  },
  {
   "cell_type": "code",
   "execution_count": 24,
   "id": "eb057ac9",
   "metadata": {},
   "outputs": [],
   "source": [
    "# Reddit API credentials\n",
    "client_id = '9zk3ptJvrNihAEGiiyTYPg'\n",
    "client_secret = 'dpYAGYqjV3jfcdg7bNjXJ9gX99cOuQ'\n",
    "user_agent = 'network analysis by u/stuffingmybrain'\n",
    "username = \"stuffingmybrain\"\n",
    "\n",
    "# Initialize the Reddit connection\n",
    "reddit = praw.Reddit(client_id=client_id,\n",
    "                     client_secret=client_secret,\n",
    "                     user_agent=user_agent,\n",
    "                     username=username)"
   ]
  },
  {
   "cell_type": "code",
   "execution_count": 27,
   "id": "6b4abc40",
   "metadata": {},
   "outputs": [
    {
     "data": {
      "text/plain": [
       "Subreddit(display_name='all-redditdev-learnpython')"
      ]
     },
     "execution_count": 27,
     "metadata": {},
     "output_type": "execute_result"
    }
   ],
   "source": [
    "reddit.subreddit(\"all-redditdev-learnpython\")"
   ]
  },
  {
   "cell_type": "code",
   "execution_count": null,
   "id": "adc947bb",
   "metadata": {},
   "outputs": [],
   "source": []
  }
 ],
 "metadata": {
  "kernelspec": {
   "display_name": "Python 3 (ipykernel)",
   "language": "python",
   "name": "python3"
  },
  "language_info": {
   "codemirror_mode": {
    "name": "ipython",
    "version": 3
   },
   "file_extension": ".py",
   "mimetype": "text/x-python",
   "name": "python",
   "nbconvert_exporter": "python",
   "pygments_lexer": "ipython3",
   "version": "3.9.16"
  }
 },
 "nbformat": 4,
 "nbformat_minor": 5
}
