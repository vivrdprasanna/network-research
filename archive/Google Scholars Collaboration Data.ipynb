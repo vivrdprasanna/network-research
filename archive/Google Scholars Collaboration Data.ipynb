{
 "cells": [
  {
   "cell_type": "code",
   "execution_count": 2,
   "id": "8df0efbd",
   "metadata": {},
   "outputs": [],
   "source": [
    "import itertools\n",
    "import pandas as pd\n",
    "import networkx as nx"
   ]
  },
  {
   "cell_type": "markdown",
   "id": "0cc34adf",
   "metadata": {},
   "source": [
    "#### Import Data"
   ]
  },
  {
   "cell_type": "code",
   "execution_count": 2,
   "id": "3741e2c1",
   "metadata": {},
   "outputs": [
    {
     "data": {
      "text/html": [
       "<div>\n",
       "<style scoped>\n",
       "    .dataframe tbody tr th:only-of-type {\n",
       "        vertical-align: middle;\n",
       "    }\n",
       "\n",
       "    .dataframe tbody tr th {\n",
       "        vertical-align: top;\n",
       "    }\n",
       "\n",
       "    .dataframe thead th {\n",
       "        text-align: right;\n",
       "    }\n",
       "</style>\n",
       "<table border=\"1\" class=\"dataframe\">\n",
       "  <thead>\n",
       "    <tr style=\"text-align: right;\">\n",
       "      <th></th>\n",
       "      <th>Cites</th>\n",
       "      <th>Authors</th>\n",
       "      <th>Title</th>\n",
       "      <th>Year</th>\n",
       "      <th>Source</th>\n",
       "      <th>Publisher</th>\n",
       "      <th>ArticleURL</th>\n",
       "      <th>CitesURL</th>\n",
       "      <th>GSRank</th>\n",
       "    </tr>\n",
       "  </thead>\n",
       "  <tbody>\n",
       "    <tr>\n",
       "      <th>0</th>\n",
       "      <td>17</td>\n",
       "      <td>J Tatemura, W Hsiung, W Li</td>\n",
       "      <td>Acceleration of web service workflow execution...</td>\n",
       "      <td>2003</td>\n",
       "      <td>Proc. 13th Int'l World Wide Web Conf.(WWW)</td>\n",
       "      <td>NaN</td>\n",
       "      <td>NaN</td>\n",
       "      <td>https://scholar.google.com/scholar?cites=85806...</td>\n",
       "      <td>8</td>\n",
       "    </tr>\n",
       "    <tr>\n",
       "      <th>1</th>\n",
       "      <td>5</td>\n",
       "      <td>M Barra, R Grieco, D Malandrino, A Negro, V Sc...</td>\n",
       "      <td>TextToSpeech: an heavy-weight Edge computing S...</td>\n",
       "      <td>2003</td>\n",
       "      <td>Poster Proc. of</td>\n",
       "      <td>NaN</td>\n",
       "      <td>NaN</td>\n",
       "      <td>https://scholar.google.com/scholar?cites=68414...</td>\n",
       "      <td>19</td>\n",
       "    </tr>\n",
       "    <tr>\n",
       "      <th>2</th>\n",
       "      <td>195</td>\n",
       "      <td>HH Pang, KL Tan</td>\n",
       "      <td>Authenticating query results in edge computing</td>\n",
       "      <td>2004</td>\n",
       "      <td>Data Engineering, 2004. Proceedings. 20th …</td>\n",
       "      <td>ieeexplore.ieee.org</td>\n",
       "      <td>http://ieeexplore.ieee.org/abstract/document/1...</td>\n",
       "      <td>https://scholar.google.com/scholar?cites=14411...</td>\n",
       "      <td>1</td>\n",
       "    </tr>\n",
       "  </tbody>\n",
       "</table>\n",
       "</div>"
      ],
      "text/plain": [
       "   Cites                                            Authors  \\\n",
       "0     17                         J Tatemura, W Hsiung, W Li   \n",
       "1      5  M Barra, R Grieco, D Malandrino, A Negro, V Sc...   \n",
       "2    195                                    HH Pang, KL Tan   \n",
       "\n",
       "                                               Title  Year  \\\n",
       "0  Acceleration of web service workflow execution...  2003   \n",
       "1  TextToSpeech: an heavy-weight Edge computing S...  2003   \n",
       "2     Authenticating query results in edge computing  2004   \n",
       "\n",
       "                                        Source            Publisher  \\\n",
       "0   Proc. 13th Int'l World Wide Web Conf.(WWW)                  NaN   \n",
       "1                              Poster Proc. of                  NaN   \n",
       "2  Data Engineering, 2004. Proceedings. 20th …  ieeexplore.ieee.org   \n",
       "\n",
       "                                          ArticleURL  \\\n",
       "0                                                NaN   \n",
       "1                                                NaN   \n",
       "2  http://ieeexplore.ieee.org/abstract/document/1...   \n",
       "\n",
       "                                            CitesURL  GSRank  \n",
       "0  https://scholar.google.com/scholar?cites=85806...       8  \n",
       "1  https://scholar.google.com/scholar?cites=68414...      19  \n",
       "2  https://scholar.google.com/scholar?cites=14411...       1  "
      ]
     },
     "execution_count": 2,
     "metadata": {},
     "output_type": "execute_result"
    }
   ],
   "source": [
    "EDGE_COMPUTING_DF_PATH = \"data/Google Scholars Data/EdgeComputingClean.csv\"\n",
    "df = pd.read_csv(EDGE_COMPUTING_DF_PATH)\n",
    "df.head(3)"
   ]
  },
  {
   "cell_type": "code",
   "execution_count": 3,
   "id": "6309acf0",
   "metadata": {},
   "outputs": [],
   "source": [
    "def string_to_lst(string):\n",
    "    return string.split(\", \")"
   ]
  },
  {
   "cell_type": "code",
   "execution_count": 4,
   "id": "172e1183",
   "metadata": {},
   "outputs": [],
   "source": [
    "# Getting a list of lists (collaborations)\n",
    "df['Authors List'] = df['Authors'].apply(string_to_lst)\n",
    "author_colabs = []\n",
    "\n",
    "for elem in df['Authors List']:\n",
    "    author_colabs.append(elem)"
   ]
  },
  {
   "cell_type": "code",
   "execution_count": 5,
   "id": "e25e9890",
   "metadata": {},
   "outputs": [],
   "source": [
    "# Cleaning list (certain names contain '…' [single character])\n",
    "for colab_lst in author_colabs:\n",
    "    for i in range(len(colab_lst)):\n",
    "        if \"…\" in colab_lst[i]:\n",
    "            colab_lst[i] = colab_lst[i][:-1]"
   ]
  },
  {
   "cell_type": "markdown",
   "id": "90715d07",
   "metadata": {},
   "source": [
    "#### Construct the Graph\n",
    "- Nodes ~ Authors\n",
    "- Connections ~ Collaborations"
   ]
  },
  {
   "cell_type": "code",
   "execution_count": 6,
   "id": "7bb51474",
   "metadata": {},
   "outputs": [],
   "source": [
    "def make_edge_list(colab_lst):\n",
    "    edges = []\n",
    "    for i in range(len(colab_lst) - 1):\n",
    "        node_1, node_2 = colab_lst[i], colab_lst[i + 1]\n",
    "        edges.append((node_1, node_2))\n",
    "    return edges"
   ]
  },
  {
   "cell_type": "code",
   "execution_count": 7,
   "id": "e038c16e",
   "metadata": {},
   "outputs": [],
   "source": [
    "nodes = list(set(list(itertools.chain(*author_colabs[:200]))))\n",
    "\n",
    "edges = []\n",
    "for colab_lst in author_colabs[:200]:\n",
    "    edges.extend(make_edge_list(colab_lst))"
   ]
  },
  {
   "cell_type": "code",
   "execution_count": 8,
   "id": "5f9cdc8b",
   "metadata": {},
   "outputs": [],
   "source": [
    "G = nx.Graph()\n",
    "G.add_nodes_from(nodes)\n",
    "G.add_edges_from(edges)"
   ]
  },
  {
   "cell_type": "code",
   "execution_count": 9,
   "id": "be7e8f0a",
   "metadata": {},
   "outputs": [
    {
     "name": "stdout",
     "output_type": "stream",
     "text": [
      "Local cdn resources have problems on chrome/safari when used in jupyter-notebook. \n"
     ]
    }
   ],
   "source": [
    "G_pyvis = Network(notebook=True)\n",
    "G_pyvis.add_nodes(nodes)\n",
    "G_pyvis.add_edges(edges)"
   ]
  },
  {
   "cell_type": "markdown",
   "id": "4d76f430",
   "metadata": {},
   "source": [
    "#### Visualize Graph"
   ]
  },
  {
   "cell_type": "code",
   "execution_count": 15,
   "id": "20fa3d84",
   "metadata": {},
   "outputs": [
    {
     "data": {
      "image/png": "[encoded data removed]",
      "text/plain": [
       "<Figure size 640x480 with 1 Axes>"
      ]
     },
     "metadata": {},
     "output_type": "display_data"
    }
   ],
   "source": [
    "nx.draw(G, node_size = 16)"
   ]
  },
  {
   "cell_type": "code",
   "execution_count": 11,
   "id": "4a534474",
   "metadata": {},
   "outputs": [
    {
     "data": {
      "text/html": [
       "\n",
       "        <iframe\n",
       "            width=\"100%\"\n",
       "            height=\"600px\"\n",
       "            src=\"edge_computing_collaboration_network.html\"\n",
       "            frameborder=\"0\"\n",
       "            allowfullscreen\n",
       "            \n",
       "        ></iframe>\n",
       "        "
      ],
      "text/plain": [
       "<IPython.lib.display.IFrame at 0x1321a7ddca0>"
      ]
     },
     "execution_count": 11,
     "metadata": {},
     "output_type": "execute_result"
    }
   ],
   "source": [
    "G_pyvis.show('edge_computing_collaboration_network.html')"
   ]
  },
  {
   "cell_type": "code",
   "execution_count": null,
   "id": "2a1f9792",
   "metadata": {},
   "outputs": [],
   "source": []
  }
 ],
 "metadata": {
  "kernelspec": {
   "display_name": "Python 3 (ipykernel)",
   "language": "python",
   "name": "python3"
  },
  "language_info": {
   "codemirror_mode": {
    "name": "ipython",
    "version": 3
   },
   "file_extension": ".py",
   "mimetype": "text/x-python",
   "name": "python",
   "nbconvert_exporter": "python",
   "pygments_lexer": "ipython3",
   "version": "3.11.2"
  }
 },
 "nbformat": 4,
 "nbformat_minor": 5
}
