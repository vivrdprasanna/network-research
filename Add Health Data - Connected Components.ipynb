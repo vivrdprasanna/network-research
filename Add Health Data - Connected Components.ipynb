{
 "cells": [
  {
   "cell_type": "code",
   "execution_count": 18,
   "id": "55cecef1",
   "metadata": {},
   "outputs": [],
   "source": [
    "import warnings\n",
    "warnings.simplefilter(action='ignore', category=FutureWarning)\n",
    "\n",
    "import numpy as np\n",
    "import pandas as pd\n",
    "import networkx as nx\n",
    "import pyreadstat\n",
    "\n",
    "pd.options.mode.chained_assignment = None"
   ]
  },
  {
   "cell_type": "markdown",
   "id": "db0a9ef0",
   "metadata": {},
   "source": [
    "# Importing & Preparing Data"
   ]
  },
  {
   "cell_type": "code",
   "execution_count": 19,
   "id": "6d46768b",
   "metadata": {},
   "outputs": [],
   "source": [
    "PATH = 'data/addhealth_data/w1network_fmt_data.sas7bdat'"
   ]
  },
  {
   "cell_type": "code",
   "execution_count": 20,
   "id": "335f2cea",
   "metadata": {},
   "outputs": [
    {
     "name": "stdout",
     "output_type": "stream",
     "text": [
      "['FMTNAME', 'START', 'END', 'LABEL', 'MIN', 'MAX', 'DEFAULT', 'LENGTH', 'FUZZ', 'PREFIX', 'MULT', 'FILL', 'NOEDIT', 'TYPE', 'SEXCL', 'EEXCL', 'HLO', 'DECSEP', 'DIG3SEP', 'DATATYPE', 'LANGUAGE']\n",
      "(12, 21)\n"
     ]
    }
   ],
   "source": [
    "df = pd.read_sas(PATH)\n",
    "columns = list(df.columns)\n",
    "print(columns)\n",
    "print(df.shape)"
   ]
  },
  {
   "cell_type": "code",
   "execution_count": 21,
   "id": "4929f019",
   "metadata": {},
   "outputs": [
    {
     "name": "stdout",
     "output_type": "stream",
     "text": [
      "Warning: column count mismatch (108 + 255 != 439)\n",
      "\n",
      "['AID', 'SIZE', 'IDGX2', 'ODGX2', 'NOUTNOM', 'TAB113', 'BCENT10X', 'REACH', 'REACH3', 'IGDMEAN']\n",
      "(6504, 439)\n"
     ]
    }
   ],
   "source": [
    "network_df = pd.read_sas(\"data/addhealth_data/w1network.sas7bdat\")\n",
    "columns = list(network_df.columns)\n",
    "print(columns[:10])\n",
    "print(network_df.shape)"
   ]
  },
  {
   "cell_type": "markdown",
   "id": "768b1d4c",
   "metadata": {},
   "source": [
    "The Add Health study, focused on adolescent health and well-being, employs a clustered design to gather extensive social network data from 90,118 students in 145 schools across 80 communities. This approach facilitates a detailed analysis of individual and school-level networks, particularly peer and friend networks. The study's in-school questionnaire includes a friendship section, where students nominate up to ten friends and provide their identification numbers. This data allows for an in-depth examination of each respondent's extended friendship network and the broader social structure of their school, enhancing understanding of the social contexts influencing adolescent health."
   ]
  },
  {
   "cell_type": "markdown",
   "id": "0eeab604",
   "metadata": {},
   "source": [
    "- In-Degree and Out-Degree (IDGX2, ODGX2): Measures the number of ties directed to and from the respondent, indicating popularity and sociability.\n",
    "- Bonacich Centrality (BCENT10X): Assesses an individual's centrality in the network, indicating influence or prominence.\n",
    "- Reach (REACH, REACH3): Quantifies the number of reachable alters within one or three steps, indicating network spread.\n",
    "- Mean Distance to Reachable Alters (IGDMEAN): Calculates the average social distance to reachable peers.\n",
    "- Proximity Prestige (PRXPREST): Reflects the respondent's status based on closeness to other high-status individuals.\n",
    "- Best Friend Reciprocity (BMFRECIP, BMFRECBF, BFFRECIP, BFFRECBF): Indicates whether best friend nominations are mutual.\n",
    "- Network Density (ESDEN, ERDEN, ESRDEN): Represents the closeness of ties within the respondent's network.\n",
    "- Network Size (NES, NER, NESR): The total number of ties in the respondent's network.\n",
    "- Network Heterogeneity (EHSGRD, EHRGRD, EHGRD): Measures diversity in the network based on grade, race, and other demographics.\n",
    "- Saliency Index (SS37, SS38, etc.): Indicates the importance of certain characteristics like grade or race within the network.\n",
    "- Freeman Segregation Index (SEG1S3, SEG1RCE5, etc.): Measures the degree of segregation within the network based on grade, race, or gender."
   ]
  }
 ],
 "metadata": {
  "kernelspec": {
   "display_name": "Python 3 (ipykernel)",
   "language": "python",
   "name": "python3"
  },
  "language_info": {
   "codemirror_mode": {
    "name": "ipython",
    "version": 3
   },
   "file_extension": ".py",
   "mimetype": "text/x-python",
   "name": "python",
   "nbconvert_exporter": "python",
   "pygments_lexer": "ipython3",
   "version": "3.9.16"
  }
 },
 "nbformat": 4,
 "nbformat_minor": 5
}
